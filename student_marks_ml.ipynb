{
 "cells": [
  {
   "cell_type": "raw",
   "id": "409180d8-c3e8-40bf-87f4-6c3e216869ad",
   "metadata": {},
   "source": [
    "import libraries"
   ]
  },
  {
   "cell_type": "code",
   "execution_count": null,
   "id": "7cb72337-7b94-44ea-bba7-90e29bb987b9",
   "metadata": {},
   "outputs": [],
   "source": [
    "import pandas as pd\n",
    "import numpy as np\n",
    "import matplotlib.pyplot as plt\n",
    "from sklearn.metrics import mean_absolute_error, mean_squared_error, r2_score"
   ]
  },
  {
   "cell_type": "code",
   "execution_count": null,
   "id": "c5436cdb-9e77-48f6-a339-e29869e3b7f1",
   "metadata": {},
   "outputs": [],
   "source": [
    "pip install --upgrade pip"
   ]
  },
  {
   "cell_type": "markdown",
   "id": "89549ae6-a797-4568-961d-5985bd2cdea3",
   "metadata": {},
   "source": [
    "<H1 style=\"color:blue\">1.Data loading</H1>"
   ]
  },
  {
   "cell_type": "code",
   "execution_count": null,
   "id": "2743f53e-4cb2-4ba7-a6b5-1642ccec4beb",
   "metadata": {},
   "outputs": [],
   "source": [
    "df  = pd.read_csv('student_marks.csv')"
   ]
  },
  {
   "cell_type": "code",
   "execution_count": null,
   "id": "b47a9b46-b9b0-4c83-a6c4-f79b47be5282",
   "metadata": {},
   "outputs": [],
   "source": [
    "pip install matplotlib"
   ]
  },
  {
   "cell_type": "code",
   "execution_count": null,
   "id": "96d35e9b-0527-4a72-9897-e270305b228d",
   "metadata": {},
   "outputs": [],
   "source": [
    "df"
   ]
  },
  {
   "cell_type": "code",
   "execution_count": null,
   "id": "f07202b3-e8b4-49b2-9328-d944d270f205",
   "metadata": {},
   "outputs": [],
   "source": [
    "df.head()"
   ]
  },
  {
   "cell_type": "code",
   "execution_count": null,
   "id": "11fc2049-e18d-4db1-819a-fe876a9cb294",
   "metadata": {},
   "outputs": [],
   "source": [
    "df.shape"
   ]
  },
  {
   "cell_type": "code",
   "execution_count": null,
   "id": "15894823-eca0-4179-8cfe-4540518c962c",
   "metadata": {},
   "outputs": [],
   "source": [
    "df.describe()"
   ]
  },
  {
   "cell_type": "code",
   "execution_count": null,
   "id": "07ee405c-db4f-4df1-bcda-b1b41eb79352",
   "metadata": {},
   "outputs": [],
   "source": [
    "df.info()"
   ]
  },
  {
   "cell_type": "code",
   "execution_count": null,
   "id": "43c180b1-2075-435c-8af8-d60846484aa0",
   "metadata": {},
   "outputs": [],
   "source": [
    "plt.scatter(df.study_hours,df.student_marks)\n",
    "plt.xlabel(\"Student Study Hours\")\n",
    "plt.ylabel(\"Student Marks\")\n",
    "plt.title(\"Study Hours Vs Student Marks\")\n"
   ]
  },
  {
   "cell_type": "markdown",
   "id": "fb04a50a-502d-43de-9ae1-62e22f993a03",
   "metadata": {},
   "source": [
    "<H1 style=\"color:blue\" >2.Data Cleaning & Preprocessing</H1>"
   ]
  },
  {
   "cell_type": "code",
   "execution_count": null,
   "id": "fee7977e-f6e0-44e6-80bc-69829f3dee31",
   "metadata": {},
   "outputs": [],
   "source": [
    "df.isnull().sum()"
   ]
  },
  {
   "cell_type": "code",
   "execution_count": null,
   "id": "a0285fcd-2273-4f66-9518-00806d1ea8bb",
   "metadata": {},
   "outputs": [],
   "source": [
    "df.study_hours.mean()"
   ]
  },
  {
   "cell_type": "code",
   "execution_count": null,
   "id": "c19d0963-39c0-4cea-81c5-74cabc08ceef",
   "metadata": {},
   "outputs": [],
   "source": [
    "df2=df.fillna(df.study_hours.mean())"
   ]
  },
  {
   "cell_type": "code",
   "execution_count": null,
   "id": "b063171a-06a3-483f-802d-a40a48047130",
   "metadata": {},
   "outputs": [],
   "source": [
    "df2"
   ]
  },
  {
   "cell_type": "code",
   "execution_count": null,
   "id": "c563dcc0-ade5-4499-90ac-aa9a5d0aadb8",
   "metadata": {},
   "outputs": [],
   "source": [
    "df2.info"
   ]
  },
  {
   "cell_type": "code",
   "execution_count": null,
   "id": "66fc42ee-5fdb-4aa2-b0db-abefd1c61fb1",
   "metadata": {},
   "outputs": [],
   "source": [
    "df2.isnull().sum()"
   ]
  },
  {
   "cell_type": "code",
   "execution_count": null,
   "id": "7372bd65-1546-4388-a723-75161abf5996",
   "metadata": {},
   "outputs": [],
   "source": [
    "X = df2[['study_hours']]   # Feature must be 2D\n",
    "y = df2['student_marks']   # Target can stay 1D"
   ]
  },
  {
   "cell_type": "code",
   "execution_count": null,
   "id": "30dc1210-dec9-421e-ba1b-ac9a11e99fb8",
   "metadata": {},
   "outputs": [],
   "source": [
    "!pip install scikit-learn"
   ]
  },
  {
   "cell_type": "markdown",
   "id": "26c11114-0509-4e9b-bd49-6e6b090659eb",
   "metadata": {},
   "source": [
    "<H1 style=\"color:blue\">3.ML model selection and training</H1>"
   ]
  },
  {
   "cell_type": "code",
   "execution_count": null,
   "id": "a03f75c5-3f3d-4b28-8bd9-a04c08d3802e",
   "metadata": {},
   "outputs": [],
   "source": [
    "from sklearn.model_selection import train_test_split\n",
    "from sklearn.linear_model import LinearRegression\n",
    "\n",
    "X_train, X_test, y_train, y_test = train_test_split(X, y, test_size=0.2, random_state=42)\n",
    "\n",
    "lr = LinearRegression()\n",
    "lr.fit(X_train, y_train)   # ✅ Now works"
   ]
  },
  {
   "cell_type": "markdown",
   "id": "4a135dd9-3e30-43e5-96e2-569167a85091",
   "metadata": {},
   "source": [
    "<H1 style=\"color:blue\">4.Evaluate Model</H1>"
   ]
  },
  {
   "cell_type": "code",
   "execution_count": null,
   "id": "36973221-f4f4-44e1-823b-110088e00333",
   "metadata": {},
   "outputs": [],
   "source": [
    "y_pred = lr.predict(X_test)\n",
    "\n",
    "mae = mean_absolute_error(y_test, y_pred)\n",
    "mse = mean_squared_error(y_test, y_pred)\n",
    "r2 = r2_score(y_test, y_pred)\n",
    "\n",
    "print(\"Regression Equation: Marks = {:.2f} * StudyHours + {:.2f}\".format(lr.coef_[0], lr.intercept_))\n",
    "print(\"MAE:\", mae)\n",
    "print(\"MSE:\", mse)\n",
    "print(\"R² Score:\", r2)"
   ]
  },
  {
   "cell_type": "markdown",
   "id": "80a15ca6-e52f-403e-88e0-95097ea8ee88",
   "metadata": {},
   "source": [
    "<H1 style=\"color:blue\">5.Predict</H1>"
   ]
  },
  {
   "cell_type": "code",
   "execution_count": null,
   "id": "cd5a8ac1-5026-433d-840c-e02be5f2dde2",
   "metadata": {},
   "outputs": [],
   "source": [
    "def predict_marks(hours):\n",
    "    return lr.predict([[hours]])[0]\n",
    "\n",
    "print(\"Predicted marks for 7 hours:\", predict_marks(7))"
   ]
  },
  {
   "cell_type": "markdown",
   "id": "8ddcfc2a-14fc-4d5c-9c77-3ab64f3973af",
   "metadata": {},
   "source": [
    "<H1 style=\"color:blue\">6.Visualization</H1>"
   ]
  },
  {
   "cell_type": "code",
   "execution_count": null,
   "id": "b15ae819-8a95-4a6d-9b30-30c6d59241be",
   "metadata": {},
   "outputs": [],
   "source": [
    "plt.scatter(df2.study_hours, df2.student_marks, alpha=0.7, label=\"Data\")\n",
    "plt.plot(X_test, y_pred, color='red', label=\"Regression Line\")\n",
    "plt.xlabel(\"Study Hours\")\n",
    "plt.ylabel(\"Student Marks\")\n",
    "plt.title(\"Study Hours vs Marks (Linear Regression)\")\n",
    "plt.legend()\n",
    "plt.show()\n"
   ]
  },
  {
   "cell_type": "code",
   "execution_count": null,
   "id": "8e9714a9-2320-4fd6-9e12-bbbc6ce4c473",
   "metadata": {},
   "outputs": [],
   "source": []
  }
 ],
 "metadata": {
  "kernelspec": {
   "display_name": "Python 3 (ipykernel)",
   "language": "python",
   "name": "python3"
  },
  "language_info": {
   "codemirror_mode": {
    "name": "ipython",
    "version": 3
   },
   "file_extension": ".py",
   "mimetype": "text/x-python",
   "name": "python",
   "nbconvert_exporter": "python",
   "pygments_lexer": "ipython3",
   "version": "3.13.2"
  }
 },
 "nbformat": 4,
 "nbformat_minor": 5
}
